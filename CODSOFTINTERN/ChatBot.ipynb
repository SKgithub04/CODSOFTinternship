{
  "nbformat": 4,
  "nbformat_minor": 0,
  "metadata": {
    "colab": {
      "provenance": []
    },
    "kernelspec": {
      "name": "python3",
      "display_name": "Python 3"
    },
    "language_info": {
      "name": "python"
    }
  },
  "cells": [
    {
      "cell_type": "code",
      "execution_count": 3,
      "metadata": {
        "id": "x4E26t8h2XnT"
      },
      "outputs": [],
      "source": [
        "import flask\n",
        "import spacy\n",
        "import nltk\n"
      ]
    },
    {
      "cell_type": "code",
      "source": [
        "import spacy\n",
        "\n",
        "nlp = spacy.load('en_core_web_sm')\n",
        "\n",
        "def generate_response(user_input):\n",
        "    doc = nlp(user_input.lower())\n",
        "\n",
        "    if \"hi\" in user_input:\n",
        "        return \"Hello! This is AI ChatBot I am her to help you to explore about London.\"\n",
        "    elif \"nice\" in user_input:\n",
        "        return \"It is nice to here from you.\"\n",
        "    elif \"how are you?\" in user_input:\n",
        "        return \"I'm Good!.\"\n",
        "    elif \"ok\" in user_input:\n",
        "        return \"It seems you expect more. Try asking about attractions, museums, or restaurants? .\"\n",
        "    elif \"anyother information about london??\" in user_input:\n",
        "        return \"To explore more details about London please refer the link - https://en.wikipedia.org/wiki/London.\"\n",
        "    elif \"attractions\" in user_input:\n",
        "        return \"London has many great attractions like the London Eye, the Tower of London, and Buckingham Palace.\"\n",
        "    elif \"museums\" in user_input:\n",
        "        return \"Some popular museums in London include the British Museum, the Natural History Museum, and the Tate Modern.\"\n",
        "    elif \"restaurants\" in user_input:\n",
        "        return \"London has a diverse food scene. You can try places like Dishoom, The Ledbury, or explore street food markets like Borough Market.\"\n",
        "    elif \"transportation\" in user_input:\n",
        "        return \"You can travel around London using the Tube, buses, or black cabs. Don't forget about the Thames River services!\"\n",
        "    else:\n",
        "        return \"I'm sorry, I don't have information on that. Can you ask about attractions, museums, or restaurants?\"\n",
        "\n",
        "def chat():\n",
        "    print(\"Welcome to the London Tourism Chatbot! Ask me anything about London.\")\n",
        "    while True:\n",
        "        user_input = input(\"You: \")\n",
        "        if user_input.lower() in [\"exit\", \"quit\", \"thank you\"]:\n",
        "            print(\"Chatbot: Goodbye! Have a great day in London!\")\n",
        "            break\n",
        "        response = generate_response(user_input)\n",
        "        print(f\"Chatbot: {response}\")\n",
        "\n",
        "chat()\n"
      ],
      "metadata": {
        "colab": {
          "base_uri": "https://localhost:8080/"
        },
        "id": "m_8QlXQE3hNb",
        "outputId": "6d8244da-848e-4269-f650-08e9879552f2"
      },
      "execution_count": 4,
      "outputs": [
        {
          "output_type": "stream",
          "name": "stdout",
          "text": [
            "Welcome to the London Tourism Chatbot! Ask me anything about London.\n",
            "You: hi\n",
            "Chatbot: Hello! This is AI ChatBot I am her to help you to explore about London.\n",
            "You: attractions\n",
            "Chatbot: London has many great attractions like the London Eye, the Tower of London, and Buckingham Palace.\n",
            "You: nice\n",
            "Chatbot: It is nice to here from you.\n",
            "You: transportations\n",
            "Chatbot: You can travel around London using the Tube, buses, or black cabs. Don't forget about the Thames River services!\n",
            "You: ok\n",
            "Chatbot: It seems you expect more. Try asking about attractions, museums, or restaurants? .\n",
            "You: anyother information about london??\n",
            "Chatbot: To explore more details about London please refer the link - https://en.wikipedia.org/wiki/London.\n",
            "You: ok\n",
            "Chatbot: It seems you expect more. Try asking about attractions, museums, or restaurants? .\n",
            "You: thank you\n",
            "Chatbot: Goodbye! Have a great day in London!\n"
          ]
        }
      ]
    }
  ]
}